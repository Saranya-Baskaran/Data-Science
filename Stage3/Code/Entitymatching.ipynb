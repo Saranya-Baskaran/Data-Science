{
 "cells": [
  {
   "cell_type": "code",
   "execution_count": 14,
   "metadata": {},
   "outputs": [
    {
     "name": "stderr",
     "output_type": "stream",
     "text": [
      "Metadata file is not present in the given path; proceeding to read the csv file.\n",
      "Metadata file is not present in the given path; proceeding to read the csv file.\n"
     ]
    }
   ],
   "source": [
    "import py_entitymatching as em\n",
    "import csv\n",
    "import os\n",
    "import pandas as pd\n",
    "import py_entitymatching as em\n",
    "\n",
    "# reading cleaned csv files from stage 2\n",
    "A = em.read_csv_metadata('./filmcrave1.csv', key='id')\n",
    "B = em.read_csv_metadata('./imdb1.csv', key='id')"
   ]
  },
  {
   "cell_type": "code",
   "execution_count": 15,
   "metadata": {
    "collapsed": true
   },
   "outputs": [],
   "source": [
    "# Creating instance for overlap blocker.\n",
    "ob = em.OverlapBlocker()"
   ]
  },
  {
   "cell_type": "code",
   "execution_count": 16,
   "metadata": {
    "collapsed": true
   },
   "outputs": [],
   "source": [
    "# Overlapping on Title. (Atleast 1 word match) - [Performed better than 3-gram]\n",
    "overlap_candidate = ob.block_tables(A, B, 'Title', 'Title', word_level=True, overlap_size=1, rem_stop_words=False, \n",
    "                    l_output_attrs=['Title', 'Overall Rating', 'Year', 'Genre', 'Directors', 'Actors'], \n",
    "                    r_output_attrs=['Title', 'Overall Rating', 'Year', 'Genre', 'Directors', 'Actors'],\n",
    "                    show_progress=False)"
   ]
  },
  {
   "cell_type": "code",
   "execution_count": 17,
   "metadata": {
    "collapsed": true
   },
   "outputs": [],
   "source": [
    "# Filtering previous stage blocker output further by matching atleast 1 word in directors\n",
    "overlap_candidate1 = ob.block_candset(overlap_candidate, 'Directors', 'Directors', word_level=True, overlap_size=1, show_progress=False)"
   ]
  },
  {
   "cell_type": "code",
   "execution_count": 18,
   "metadata": {
    "collapsed": true
   },
   "outputs": [],
   "source": [
    "# Creating instance for attribute blocker\n",
    "ab = em.AttrEquivalenceBlocker()\n",
    "\n",
    "# Blocking previous level blocker using matching year attribute\n",
    "attribute_candidate = ab.block_candset(overlap_candidate1, 'Year', 'Year', show_progress=False)"
   ]
  },
  {
   "cell_type": "code",
   "execution_count": 19,
   "metadata": {
    "collapsed": true
   },
   "outputs": [],
   "source": [
    "# Randomly sampling 500 records from the candidate tuple pairs\n",
    "sample = em.sample_table(attribute_candidate, 500)"
   ]
  },
  {
   "cell_type": "code",
   "execution_count": 20,
   "metadata": {
    "collapsed": true
   },
   "outputs": [],
   "source": [
    "# Storing this sample for labelling.\n",
    "sample.to_csv(\"Sampleset.csv\")"
   ]
  },
  {
   "cell_type": "code",
   "execution_count": 27,
   "metadata": {},
   "outputs": [
    {
     "name": "stderr",
     "output_type": "stream",
     "text": [
      "Metadata file is not present in the given path; proceeding to read the csv file.\n"
     ]
    }
   ],
   "source": [
    "# Opening the csv file and cleaning and converting to new CSV File\n",
    "with open('./Sampleset.csv', 'r', encoding='utf-8', errors='ignore') as infile, open('./Sampleset1.csv', 'w') as outfile:\n",
    "     inputs = csv.reader(infile)\n",
    "     outputs = csv.writer(outfile)\n",
    "\n",
    "     for index, row in enumerate(inputs):\n",
    "         outputs.writerow(row)\n",
    "\n",
    "# Read in the labelled dataset        \n",
    "G = em.read_csv_metadata(\"./Sampleset1.csv\", key='_id', \n",
    "                         fk_ltable='ltable_id', fk_rtable='rtable_id',\n",
    "                         ltable=A, rtable=B)"
   ]
  },
  {
   "cell_type": "code",
   "execution_count": 28,
   "metadata": {
    "collapsed": true
   },
   "outputs": [],
   "source": [
    "# Splitting the data into training and testing portions. \n",
    "split = em.split_train_test(G, train_proportion=0.5, random_state=0)\n",
    "\n",
    "# Training and testing set splits\n",
    "train_set = split['train']\n",
    "test_set = split['test']"
   ]
  },
  {
   "cell_type": "code",
   "execution_count": 29,
   "metadata": {
    "collapsed": true
   },
   "outputs": [],
   "source": [
    "# Initialising all ML algos\n",
    "dt = em.DTMatcher(name='DecisionTree', random_state=0)\n",
    "svm = em.SVMMatcher(name='SVM', random_state=0)\n",
    "rf = em.RFMatcher(name='RF', random_state=0)\n",
    "lg = em.LogRegMatcher(name='LogReg', random_state=0)\n",
    "ln = em.LinRegMatcher(name='LinReg')"
   ]
  },
  {
   "cell_type": "code",
   "execution_count": 30,
   "metadata": {
    "collapsed": true
   },
   "outputs": [],
   "source": [
    "# Generating features for training\n",
    "features = em.get_features_for_matching(A, B, validate_inferred_attr_types=False)"
   ]
  },
  {
   "cell_type": "code",
   "execution_count": 31,
   "metadata": {},
   "outputs": [],
   "source": [
    "# Extracting feature vectors to train and create model\n",
    "H = em.extract_feature_vecs(train_set, \n",
    "                            feature_table=features, \n",
    "                            attrs_after='label',\n",
    "                            show_progress=False)"
   ]
  },
  {
   "cell_type": "code",
   "execution_count": 32,
   "metadata": {},
   "outputs": [
    {
     "data": {
      "text/html": [
       "<div>\n",
       "<style scoped>\n",
       "    .dataframe tbody tr th:only-of-type {\n",
       "        vertical-align: middle;\n",
       "    }\n",
       "\n",
       "    .dataframe tbody tr th {\n",
       "        vertical-align: top;\n",
       "    }\n",
       "\n",
       "    .dataframe thead th {\n",
       "        text-align: right;\n",
       "    }\n",
       "</style>\n",
       "<table border=\"1\" class=\"dataframe\">\n",
       "  <thead>\n",
       "    <tr style=\"text-align: right;\">\n",
       "      <th></th>\n",
       "      <th>_id</th>\n",
       "      <th>ltable_id</th>\n",
       "      <th>rtable_id</th>\n",
       "      <th>id_id_exm</th>\n",
       "      <th>id_id_anm</th>\n",
       "      <th>id_id_lev_dist</th>\n",
       "      <th>id_id_lev_sim</th>\n",
       "      <th>Title_Title_jac_qgm_3_qgm_3</th>\n",
       "      <th>Title_Title_cos_dlm_dc0_dlm_dc0</th>\n",
       "      <th>Title_Title_jac_dlm_dc0_dlm_dc0</th>\n",
       "      <th>...</th>\n",
       "      <th>Directors_Directors_nmw</th>\n",
       "      <th>Directors_Directors_sw</th>\n",
       "      <th>Actors_Actors_jac_qgm_3_qgm_3</th>\n",
       "      <th>Actors_Actors_cos_dlm_dc0_dlm_dc0</th>\n",
       "      <th>Actors_Actors_mel</th>\n",
       "      <th>Actors_Actors_lev_dist</th>\n",
       "      <th>Actors_Actors_lev_sim</th>\n",
       "      <th>Plot_Plot_jac_qgm_3_qgm_3</th>\n",
       "      <th>Plot_Plot_cos_dlm_dc0_dlm_dc0</th>\n",
       "      <th>label</th>\n",
       "    </tr>\n",
       "  </thead>\n",
       "  <tbody>\n",
       "    <tr>\n",
       "      <th>476</th>\n",
       "      <td>1007330</td>\n",
       "      <td>3001</td>\n",
       "      <td>3298</td>\n",
       "      <td>0</td>\n",
       "      <td>0.909945</td>\n",
       "      <td>3</td>\n",
       "      <td>0.250000</td>\n",
       "      <td>0.259259</td>\n",
       "      <td>0.408248</td>\n",
       "      <td>0.250000</td>\n",
       "      <td>...</td>\n",
       "      <td>15.0</td>\n",
       "      <td>15.0</td>\n",
       "      <td>0.585714</td>\n",
       "      <td>0.166667</td>\n",
       "      <td>0.898730</td>\n",
       "      <td>17.0</td>\n",
       "      <td>0.730159</td>\n",
       "      <td>0.053892</td>\n",
       "      <td>0.069171</td>\n",
       "      <td>1</td>\n",
       "    </tr>\n",
       "    <tr>\n",
       "      <th>162</th>\n",
       "      <td>350997</td>\n",
       "      <td>1110</td>\n",
       "      <td>1147</td>\n",
       "      <td>0</td>\n",
       "      <td>0.967742</td>\n",
       "      <td>2</td>\n",
       "      <td>0.500000</td>\n",
       "      <td>0.450000</td>\n",
       "      <td>0.816497</td>\n",
       "      <td>0.666667</td>\n",
       "      <td>...</td>\n",
       "      <td>12.0</td>\n",
       "      <td>12.0</td>\n",
       "      <td>0.537313</td>\n",
       "      <td>0.166667</td>\n",
       "      <td>0.871178</td>\n",
       "      <td>19.0</td>\n",
       "      <td>0.666667</td>\n",
       "      <td>0.216667</td>\n",
       "      <td>0.193601</td>\n",
       "      <td>1</td>\n",
       "    </tr>\n",
       "    <tr>\n",
       "      <th>34</th>\n",
       "      <td>63043</td>\n",
       "      <td>39</td>\n",
       "      <td>202</td>\n",
       "      <td>0</td>\n",
       "      <td>0.193069</td>\n",
       "      <td>3</td>\n",
       "      <td>0.000000</td>\n",
       "      <td>0.230769</td>\n",
       "      <td>0.408248</td>\n",
       "      <td>0.250000</td>\n",
       "      <td>...</td>\n",
       "      <td>12.0</td>\n",
       "      <td>12.0</td>\n",
       "      <td>0.557377</td>\n",
       "      <td>0.182574</td>\n",
       "      <td>0.881275</td>\n",
       "      <td>15.0</td>\n",
       "      <td>0.705882</td>\n",
       "      <td>0.124000</td>\n",
       "      <td>0.141069</td>\n",
       "      <td>1</td>\n",
       "    </tr>\n",
       "    <tr>\n",
       "      <th>44</th>\n",
       "      <td>85897</td>\n",
       "      <td>243</td>\n",
       "      <td>280</td>\n",
       "      <td>0</td>\n",
       "      <td>0.867857</td>\n",
       "      <td>2</td>\n",
       "      <td>0.333333</td>\n",
       "      <td>0.153846</td>\n",
       "      <td>0.707107</td>\n",
       "      <td>0.500000</td>\n",
       "      <td>...</td>\n",
       "      <td>12.0</td>\n",
       "      <td>12.0</td>\n",
       "      <td>0.558824</td>\n",
       "      <td>0.182574</td>\n",
       "      <td>0.882112</td>\n",
       "      <td>17.0</td>\n",
       "      <td>0.711864</td>\n",
       "      <td>0.216138</td>\n",
       "      <td>0.243778</td>\n",
       "      <td>1</td>\n",
       "    </tr>\n",
       "    <tr>\n",
       "      <th>97</th>\n",
       "      <td>168032</td>\n",
       "      <td>847</td>\n",
       "      <td>543</td>\n",
       "      <td>0</td>\n",
       "      <td>0.641086</td>\n",
       "      <td>2</td>\n",
       "      <td>0.333333</td>\n",
       "      <td>1.000000</td>\n",
       "      <td>1.000000</td>\n",
       "      <td>1.000000</td>\n",
       "      <td>...</td>\n",
       "      <td>13.0</td>\n",
       "      <td>13.0</td>\n",
       "      <td>0.346154</td>\n",
       "      <td>0.182574</td>\n",
       "      <td>0.667645</td>\n",
       "      <td>36.0</td>\n",
       "      <td>0.389831</td>\n",
       "      <td>0.321192</td>\n",
       "      <td>0.358209</td>\n",
       "      <td>1</td>\n",
       "    </tr>\n",
       "  </tbody>\n",
       "</table>\n",
       "<p>5 rows × 35 columns</p>\n",
       "</div>"
      ],
      "text/plain": [
       "         _id  ltable_id  rtable_id  id_id_exm  id_id_anm  id_id_lev_dist  \\\n",
       "476  1007330       3001       3298          0   0.909945               3   \n",
       "162   350997       1110       1147          0   0.967742               2   \n",
       "34     63043         39        202          0   0.193069               3   \n",
       "44     85897        243        280          0   0.867857               2   \n",
       "97    168032        847        543          0   0.641086               2   \n",
       "\n",
       "     id_id_lev_sim  Title_Title_jac_qgm_3_qgm_3  \\\n",
       "476       0.250000                     0.259259   \n",
       "162       0.500000                     0.450000   \n",
       "34        0.000000                     0.230769   \n",
       "44        0.333333                     0.153846   \n",
       "97        0.333333                     1.000000   \n",
       "\n",
       "     Title_Title_cos_dlm_dc0_dlm_dc0  Title_Title_jac_dlm_dc0_dlm_dc0  ...    \\\n",
       "476                         0.408248                         0.250000  ...     \n",
       "162                         0.816497                         0.666667  ...     \n",
       "34                          0.408248                         0.250000  ...     \n",
       "44                          0.707107                         0.500000  ...     \n",
       "97                          1.000000                         1.000000  ...     \n",
       "\n",
       "     Directors_Directors_nmw  Directors_Directors_sw  \\\n",
       "476                     15.0                    15.0   \n",
       "162                     12.0                    12.0   \n",
       "34                      12.0                    12.0   \n",
       "44                      12.0                    12.0   \n",
       "97                      13.0                    13.0   \n",
       "\n",
       "     Actors_Actors_jac_qgm_3_qgm_3  Actors_Actors_cos_dlm_dc0_dlm_dc0  \\\n",
       "476                       0.585714                           0.166667   \n",
       "162                       0.537313                           0.166667   \n",
       "34                        0.557377                           0.182574   \n",
       "44                        0.558824                           0.182574   \n",
       "97                        0.346154                           0.182574   \n",
       "\n",
       "     Actors_Actors_mel  Actors_Actors_lev_dist  Actors_Actors_lev_sim  \\\n",
       "476           0.898730                    17.0               0.730159   \n",
       "162           0.871178                    19.0               0.666667   \n",
       "34            0.881275                    15.0               0.705882   \n",
       "44            0.882112                    17.0               0.711864   \n",
       "97            0.667645                    36.0               0.389831   \n",
       "\n",
       "     Plot_Plot_jac_qgm_3_qgm_3  Plot_Plot_cos_dlm_dc0_dlm_dc0  label  \n",
       "476                   0.053892                       0.069171      1  \n",
       "162                   0.216667                       0.193601      1  \n",
       "34                    0.124000                       0.141069      1  \n",
       "44                    0.216138                       0.243778      1  \n",
       "97                    0.321192                       0.358209      1  \n",
       "\n",
       "[5 rows x 35 columns]"
      ]
     },
     "execution_count": 32,
     "metadata": {},
     "output_type": "execute_result"
    }
   ],
   "source": [
    "H.head()"
   ]
  },
  {
   "cell_type": "code",
   "execution_count": 33,
   "metadata": {},
   "outputs": [
    {
     "data": {
      "text/plain": [
       "True"
      ]
     },
     "execution_count": 33,
     "metadata": {},
     "output_type": "execute_result"
    }
   ],
   "source": [
    "any(pd.notnull(H))"
   ]
  },
  {
   "cell_type": "code",
   "execution_count": 34,
   "metadata": {
    "collapsed": true
   },
   "outputs": [],
   "source": [
    "H = em.impute_table(H, \n",
    "                exclude_attrs=['_id', 'ltable_id', 'rtable_id', 'label'],\n",
    "                strategy='mean')"
   ]
  },
  {
   "cell_type": "code",
   "execution_count": 35,
   "metadata": {},
   "outputs": [
    {
     "name": "stderr",
     "output_type": "stream",
     "text": [
      "/Library/Frameworks/Python.framework/Versions/3.6/lib/python3.6/site-packages/scipy/linalg/basic.py:1226: RuntimeWarning: internal gelsd driver lwork query error, required iwork dimension not returned. This is likely the result of LAPACK bug 0038, fixed in LAPACK 3.2.2 (released July 21, 2010). Falling back to 'gelss' driver.\n",
      "  warnings.warn(mesg, RuntimeWarning)\n",
      "/Library/Frameworks/Python.framework/Versions/3.6/lib/python3.6/site-packages/scipy/linalg/basic.py:1226: RuntimeWarning: internal gelsd driver lwork query error, required iwork dimension not returned. This is likely the result of LAPACK bug 0038, fixed in LAPACK 3.2.2 (released July 21, 2010). Falling back to 'gelss' driver.\n",
      "  warnings.warn(mesg, RuntimeWarning)\n",
      "/Library/Frameworks/Python.framework/Versions/3.6/lib/python3.6/site-packages/scipy/linalg/basic.py:1226: RuntimeWarning: internal gelsd driver lwork query error, required iwork dimension not returned. This is likely the result of LAPACK bug 0038, fixed in LAPACK 3.2.2 (released July 21, 2010). Falling back to 'gelss' driver.\n",
      "  warnings.warn(mesg, RuntimeWarning)\n",
      "/Library/Frameworks/Python.framework/Versions/3.6/lib/python3.6/site-packages/scipy/linalg/basic.py:1226: RuntimeWarning: internal gelsd driver lwork query error, required iwork dimension not returned. This is likely the result of LAPACK bug 0038, fixed in LAPACK 3.2.2 (released July 21, 2010). Falling back to 'gelss' driver.\n",
      "  warnings.warn(mesg, RuntimeWarning)\n",
      "/Library/Frameworks/Python.framework/Versions/3.6/lib/python3.6/site-packages/scipy/linalg/basic.py:1226: RuntimeWarning: internal gelsd driver lwork query error, required iwork dimension not returned. This is likely the result of LAPACK bug 0038, fixed in LAPACK 3.2.2 (released July 21, 2010). Falling back to 'gelss' driver.\n",
      "  warnings.warn(mesg, RuntimeWarning)\n",
      "/Library/Frameworks/Python.framework/Versions/3.6/lib/python3.6/site-packages/scipy/linalg/basic.py:1226: RuntimeWarning: internal gelsd driver lwork query error, required iwork dimension not returned. This is likely the result of LAPACK bug 0038, fixed in LAPACK 3.2.2 (released July 21, 2010). Falling back to 'gelss' driver.\n",
      "  warnings.warn(mesg, RuntimeWarning)\n",
      "/Library/Frameworks/Python.framework/Versions/3.6/lib/python3.6/site-packages/scipy/linalg/basic.py:1226: RuntimeWarning: internal gelsd driver lwork query error, required iwork dimension not returned. This is likely the result of LAPACK bug 0038, fixed in LAPACK 3.2.2 (released July 21, 2010). Falling back to 'gelss' driver.\n",
      "  warnings.warn(mesg, RuntimeWarning)\n",
      "/Library/Frameworks/Python.framework/Versions/3.6/lib/python3.6/site-packages/scipy/linalg/basic.py:1226: RuntimeWarning: internal gelsd driver lwork query error, required iwork dimension not returned. This is likely the result of LAPACK bug 0038, fixed in LAPACK 3.2.2 (released July 21, 2010). Falling back to 'gelss' driver.\n",
      "  warnings.warn(mesg, RuntimeWarning)\n",
      "/Library/Frameworks/Python.framework/Versions/3.6/lib/python3.6/site-packages/scipy/linalg/basic.py:1226: RuntimeWarning: internal gelsd driver lwork query error, required iwork dimension not returned. This is likely the result of LAPACK bug 0038, fixed in LAPACK 3.2.2 (released July 21, 2010). Falling back to 'gelss' driver.\n",
      "  warnings.warn(mesg, RuntimeWarning)\n",
      "/Library/Frameworks/Python.framework/Versions/3.6/lib/python3.6/site-packages/scipy/linalg/basic.py:1226: RuntimeWarning: internal gelsd driver lwork query error, required iwork dimension not returned. This is likely the result of LAPACK bug 0038, fixed in LAPACK 3.2.2 (released July 21, 2010). Falling back to 'gelss' driver.\n",
      "  warnings.warn(mesg, RuntimeWarning)\n",
      "/Library/Frameworks/Python.framework/Versions/3.6/lib/python3.6/site-packages/scipy/linalg/basic.py:1226: RuntimeWarning: internal gelsd driver lwork query error, required iwork dimension not returned. This is likely the result of LAPACK bug 0038, fixed in LAPACK 3.2.2 (released July 21, 2010). Falling back to 'gelss' driver.\n",
      "  warnings.warn(mesg, RuntimeWarning)\n",
      "/Library/Frameworks/Python.framework/Versions/3.6/lib/python3.6/site-packages/scipy/linalg/basic.py:1226: RuntimeWarning: internal gelsd driver lwork query error, required iwork dimension not returned. This is likely the result of LAPACK bug 0038, fixed in LAPACK 3.2.2 (released July 21, 2010). Falling back to 'gelss' driver.\n",
      "  warnings.warn(mesg, RuntimeWarning)\n"
     ]
    }
   ],
   "source": [
    "result = em.select_matcher([dt, rf, svm, ln, lg], table=H, \n",
    "        exclude_attrs=['_id', 'ltable_id', 'rtable_id', 'label'],\n",
    "        k=5,\n",
    "        target_attr='label', metric_to_select_matcher='f1', random_state=0)"
   ]
  },
  {
   "cell_type": "code",
   "execution_count": 36,
   "metadata": {},
   "outputs": [
    {
     "data": {
      "text/html": [
       "<div>\n",
       "<style scoped>\n",
       "    .dataframe tbody tr th:only-of-type {\n",
       "        vertical-align: middle;\n",
       "    }\n",
       "\n",
       "    .dataframe tbody tr th {\n",
       "        vertical-align: top;\n",
       "    }\n",
       "\n",
       "    .dataframe thead th {\n",
       "        text-align: right;\n",
       "    }\n",
       "</style>\n",
       "<table border=\"1\" class=\"dataframe\">\n",
       "  <thead>\n",
       "    <tr style=\"text-align: right;\">\n",
       "      <th></th>\n",
       "      <th>Matcher</th>\n",
       "      <th>Average precision</th>\n",
       "      <th>Average recall</th>\n",
       "      <th>Average f1</th>\n",
       "    </tr>\n",
       "  </thead>\n",
       "  <tbody>\n",
       "    <tr>\n",
       "      <th>0</th>\n",
       "      <td>DecisionTree</td>\n",
       "      <td>0.989717</td>\n",
       "      <td>0.995122</td>\n",
       "      <td>0.992322</td>\n",
       "    </tr>\n",
       "    <tr>\n",
       "      <th>1</th>\n",
       "      <td>RF</td>\n",
       "      <td>1.000000</td>\n",
       "      <td>0.995122</td>\n",
       "      <td>0.997531</td>\n",
       "    </tr>\n",
       "    <tr>\n",
       "      <th>2</th>\n",
       "      <td>SVM</td>\n",
       "      <td>0.895191</td>\n",
       "      <td>1.000000</td>\n",
       "      <td>0.943919</td>\n",
       "    </tr>\n",
       "    <tr>\n",
       "      <th>3</th>\n",
       "      <td>LinReg</td>\n",
       "      <td>1.000000</td>\n",
       "      <td>1.000000</td>\n",
       "      <td>1.000000</td>\n",
       "    </tr>\n",
       "    <tr>\n",
       "      <th>4</th>\n",
       "      <td>LogReg</td>\n",
       "      <td>0.994595</td>\n",
       "      <td>0.995122</td>\n",
       "      <td>0.994791</td>\n",
       "    </tr>\n",
       "  </tbody>\n",
       "</table>\n",
       "</div>"
      ],
      "text/plain": [
       "        Matcher  Average precision  Average recall  Average f1\n",
       "0  DecisionTree           0.989717        0.995122    0.992322\n",
       "1            RF           1.000000        0.995122    0.997531\n",
       "2           SVM           0.895191        1.000000    0.943919\n",
       "3        LinReg           1.000000        1.000000    1.000000\n",
       "4        LogReg           0.994595        0.995122    0.994791"
      ]
     },
     "execution_count": 36,
     "metadata": {},
     "output_type": "execute_result"
    }
   ],
   "source": [
    "result['cv_stats']"
   ]
  },
  {
   "cell_type": "code",
   "execution_count": 37,
   "metadata": {
    "collapsed": true
   },
   "outputs": [],
   "source": [
    "dt = em.DTMatcher(name='LinReg', random_state=0)"
   ]
  },
  {
   "cell_type": "code",
   "execution_count": 38,
   "metadata": {
    "collapsed": true
   },
   "outputs": [],
   "source": [
    "dt.fit(table=H, \n",
    "       exclude_attrs=['_id', 'ltable_id', 'rtable_id', 'label'], \n",
    "       target_attr='label')"
   ]
  },
  {
   "cell_type": "code",
   "execution_count": 40,
   "metadata": {},
   "outputs": [],
   "source": [
    "\n",
    "L = em.extract_feature_vecs(test_set, feature_table=features,\n",
    "                            attrs_after='label', show_progress=False)"
   ]
  },
  {
   "cell_type": "code",
   "execution_count": 41,
   "metadata": {},
   "outputs": [
    {
     "data": {
      "text/plain": [
       "True"
      ]
     },
     "execution_count": 41,
     "metadata": {},
     "output_type": "execute_result"
    }
   ],
   "source": [
    "any(pd.notnull(L))"
   ]
  },
  {
   "cell_type": "code",
   "execution_count": 42,
   "metadata": {
    "collapsed": true
   },
   "outputs": [],
   "source": [
    "L = em.impute_table(L, \n",
    "                exclude_attrs=['_id', 'ltable_id', 'rtable_id', 'label'],\n",
    "                strategy='mean')"
   ]
  },
  {
   "cell_type": "code",
   "execution_count": 43,
   "metadata": {
    "collapsed": true
   },
   "outputs": [],
   "source": [
    "predictions = dt.predict(table=L, exclude_attrs=['_id', 'ltable_id', 'rtable_id', 'label'], \n",
    "              append=True, target_attr='predicted', inplace=False, return_probs=True,\n",
    "                        probs_attr='proba')"
   ]
  },
  {
   "cell_type": "code",
   "execution_count": 35,
   "metadata": {},
   "outputs": [
    {
     "data": {
      "text/html": [
       "<div>\n",
       "<style scoped>\n",
       "    .dataframe tbody tr th:only-of-type {\n",
       "        vertical-align: middle;\n",
       "    }\n",
       "\n",
       "    .dataframe tbody tr th {\n",
       "        vertical-align: top;\n",
       "    }\n",
       "\n",
       "    .dataframe thead th {\n",
       "        text-align: right;\n",
       "    }\n",
       "</style>\n",
       "<table border=\"1\" class=\"dataframe\">\n",
       "  <thead>\n",
       "    <tr style=\"text-align: right;\">\n",
       "      <th></th>\n",
       "      <th>_id</th>\n",
       "      <th>ltable_id</th>\n",
       "      <th>rtable_id</th>\n",
       "      <th>predicted</th>\n",
       "      <th>proba</th>\n",
       "    </tr>\n",
       "  </thead>\n",
       "  <tbody>\n",
       "    <tr>\n",
       "      <th>90</th>\n",
       "      <td>155959</td>\n",
       "      <td>163</td>\n",
       "      <td>499</td>\n",
       "      <td>1</td>\n",
       "      <td>1.0</td>\n",
       "    </tr>\n",
       "    <tr>\n",
       "      <th>254</th>\n",
       "      <td>529437</td>\n",
       "      <td>1959</td>\n",
       "      <td>1736</td>\n",
       "      <td>1</td>\n",
       "      <td>1.0</td>\n",
       "    </tr>\n",
       "    <tr>\n",
       "      <th>283</th>\n",
       "      <td>603984</td>\n",
       "      <td>2180</td>\n",
       "      <td>1972</td>\n",
       "      <td>1</td>\n",
       "      <td>1.0</td>\n",
       "    </tr>\n",
       "    <tr>\n",
       "      <th>445</th>\n",
       "      <td>936841</td>\n",
       "      <td>3176</td>\n",
       "      <td>3076</td>\n",
       "      <td>1</td>\n",
       "      <td>1.0</td>\n",
       "    </tr>\n",
       "    <tr>\n",
       "      <th>461</th>\n",
       "      <td>971241</td>\n",
       "      <td>3124</td>\n",
       "      <td>3178</td>\n",
       "      <td>1</td>\n",
       "      <td>1.0</td>\n",
       "    </tr>\n",
       "  </tbody>\n",
       "</table>\n",
       "</div>"
      ],
      "text/plain": [
       "        _id  ltable_id  rtable_id  predicted  proba\n",
       "90   155959        163        499          1    1.0\n",
       "254  529437       1959       1736          1    1.0\n",
       "283  603984       2180       1972          1    1.0\n",
       "445  936841       3176       3076          1    1.0\n",
       "461  971241       3124       3178          1    1.0"
      ]
     },
     "execution_count": 35,
     "metadata": {},
     "output_type": "execute_result"
    }
   ],
   "source": [
    "predictions[['_id', 'ltable_id', 'rtable_id', 'predicted', 'proba']].head()"
   ]
  },
  {
   "cell_type": "code",
   "execution_count": 44,
   "metadata": {},
   "outputs": [
    {
     "name": "stdout",
     "output_type": "stream",
     "text": [
      "Precision : 97.33% (182/187)\n",
      "Recall : 98.38% (182/185)\n",
      "F1 : 97.85%\n",
      "False positives : 5 (out of 187 positive predictions)\n",
      "False negatives : 3 (out of 63 negative predictions)\n"
     ]
    }
   ],
   "source": [
    "eval_result = em.eval_matches(predictions, 'label', 'predicted')\n",
    "em.print_eval_summary(eval_result)"
   ]
  },
  {
   "cell_type": "code",
   "execution_count": null,
   "metadata": {
    "collapsed": true
   },
   "outputs": [],
   "source": []
  }
 ],
 "metadata": {
  "kernelspec": {
   "display_name": "Python 3",
   "language": "python",
   "name": "python3"
  },
  "language_info": {
   "codemirror_mode": {
    "name": "ipython",
    "version": 3
   },
   "file_extension": ".py",
   "mimetype": "text/x-python",
   "name": "python",
   "nbconvert_exporter": "python",
   "pygments_lexer": "ipython3",
   "version": "3.6.2"
  }
 },
 "nbformat": 4,
 "nbformat_minor": 2
}
